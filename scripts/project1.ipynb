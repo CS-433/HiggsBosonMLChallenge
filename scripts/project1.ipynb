{
 "cells": [
  {
   "cell_type": "code",
   "execution_count": 49,
   "metadata": {},
   "outputs": [
    {
     "name": "stdout",
     "output_type": "stream",
     "text": [
      "The autoreload extension is already loaded. To reload it, use:\n",
      "  %reload_ext autoreload\n"
     ]
    }
   ],
   "source": [
    "# Useful starting lines\n",
    "%matplotlib inline\n",
    "import numpy as np\n",
    "import matplotlib.pyplot as plt\n",
    "from helpers.least_squares import *\n",
    "%load_ext autoreload\n",
    "%autoreload 2"
   ]
  },
  {
   "cell_type": "markdown",
   "metadata": {},
   "source": [
    "## Load the training data into feature matrix, class labels, and event ids:"
   ]
  },
  {
   "cell_type": "code",
   "execution_count": 50,
   "metadata": {
    "scrolled": true
   },
   "outputs": [],
   "source": [
    "from helpers.proj1_helpers import *\n",
    "# Aya : '/Users/mac/Documents/GitHub/ml-project-1-aaa_project1/data/train.csv' \n",
    "DATA_TRAIN_PATH = '/home/adeye/Documents/EPFL/MA1/ML_course/projects/ml-project-1-aaa_project1/train.csv' \n",
    "y, tX, ids = load_csv_data(DATA_TRAIN_PATH)"
   ]
  },
  {
   "cell_type": "markdown",
   "metadata": {},
   "source": [
    "## Do your thing crazy machine learning thing here :) ..."
   ]
  },
  {
   "cell_type": "code",
   "execution_count": 55,
   "metadata": {},
   "outputs": [
    {
     "name": "stdout",
     "output_type": "stream",
     "text": [
      "[ 0.77526501  0.56264922  0.64215782  0.51507831 -1.90048197 -1.90048197\n",
      " -1.90048197  0.41202647  0.40880848  0.69272757  0.40604262  0.40727676\n",
      " -1.90048197  0.50093299  0.40871851  0.39706916  0.48917752  0.40517065\n",
      "  0.40425254  0.50713829  0.39959511  0.78359027  0.40632175  0.51064925\n",
      "  0.40568737  0.40668622 -1.90048197 -1.90048197 -1.90048197  0.51064925]\n"
     ]
    }
   ],
   "source": [
    "#Pre-processing\n",
    "\n",
    "\n",
    "#Remove outliers\n",
    "\n",
    "\n",
    "\n",
    "\n",
    "#\n",
    "\n",
    "#x, mean_x, std_x = standardize(tX)\n",
    "#weights,loss = least_squares(y,x)\n",
    "print(x[1,:])"
   ]
  },
  {
   "cell_type": "code",
   "execution_count": 90,
   "metadata": {},
   "outputs": [],
   "source": [
    "def remove_outliers(x):\n",
    "    '''go through every column and calculate it's mean'''\n",
    "    nbColumns = x.shape[1]\n",
    "    for i in range(nbColumns):\n",
    "        #we calculate the median of the current column after discarding the -999 values (they should not be in the median)\n",
    "        median = np.median(x[:,i][x[:,i]!= -999])\n",
    "        \n",
    "        #we find the indices of the elements with value -999 in our current column\n",
    "        indices = x[:,i] == -999\n",
    "        \n",
    "        #we replace the element at the found indices by the median of the current column\n",
    "        x[:,i][indices] = median\n",
    "    \n",
    "    \n",
    "    \n",
    "        "
   ]
  },
  {
   "cell_type": "code",
   "execution_count": 91,
   "metadata": {},
   "outputs": [],
   "source": [
    "new = remove_outliers(tX)\n"
   ]
  },
  {
   "cell_type": "code",
   "execution_count": 95,
   "metadata": {},
   "outputs": [
    {
     "name": "stdout",
     "output_type": "stream",
     "text": [
      "[ 1.60937e+02  6.87680e+01  1.03235e+02  4.81460e+01  2.10700e+00\n",
      "  2.25885e+02 -2.44000e-01  3.47300e+00  2.07800e+00  1.25157e+02\n",
      "  8.79000e-01  1.41400e+00  4.54000e-01  4.20140e+01  2.03900e+00\n",
      " -3.01100e+00  3.69180e+01  5.01000e-01  1.03000e-01  4.47040e+01\n",
      " -1.91600e+00  1.64546e+02  1.00000e+00  4.62260e+01  7.25000e-01\n",
      "  1.15800e+00  4.79020e+01 -1.00000e-02 -2.00000e-03  4.62260e+01]\n"
     ]
    }
   ],
   "source": [
    "print(tX[1,:])"
   ]
  },
  {
   "cell_type": "markdown",
   "metadata": {},
   "source": [
    "## Generate predictions and save ouput in csv format for submission:"
   ]
  },
  {
   "cell_type": "code",
   "execution_count": null,
   "metadata": {},
   "outputs": [],
   "source": []
  },
  {
   "cell_type": "code",
   "execution_count": 39,
   "metadata": {},
   "outputs": [],
   "source": [
    "DATA_TEST_PATH = '/home/adeye/Documents/EPFL/MA1/ML_course/projects/ml-project-1-aaa_project1/test.csv' \n",
    "_, tX_test, ids_test = load_csv_data(DATA_TEST_PATH)\n",
    "\n"
   ]
  },
  {
   "cell_type": "code",
   "execution_count": 40,
   "metadata": {},
   "outputs": [],
   "source": [
    "OUTPUT_PATH = '/home/adeye/Documents/EPFL/MA1/ML_course/projects/ml-project-1-aaa_project1/output.csv' \n",
    "y_pred = predict_labels(weights, tX_test)\n",
    "create_csv_submission(ids_test, y_pred, OUTPUT_PATH)"
   ]
  },
  {
   "cell_type": "code",
   "execution_count": null,
   "metadata": {},
   "outputs": [],
   "source": []
  }
 ],
 "metadata": {
  "anaconda-cloud": {},
  "kernelspec": {
   "display_name": "Python 3",
   "language": "python",
   "name": "python3"
  },
  "language_info": {
   "codemirror_mode": {
    "name": "ipython",
    "version": 3
   },
   "file_extension": ".py",
   "mimetype": "text/x-python",
   "name": "python",
   "nbconvert_exporter": "python",
   "pygments_lexer": "ipython3",
   "version": "3.8.8"
  }
 },
 "nbformat": 4,
 "nbformat_minor": 4
}
