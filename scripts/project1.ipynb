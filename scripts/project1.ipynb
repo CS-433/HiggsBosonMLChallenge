{
 "cells": [
  {
   "cell_type": "code",
   "execution_count": 71,
   "metadata": {},
   "outputs": [
    {
     "name": "stdout",
     "output_type": "stream",
     "text": [
      "The autoreload extension is already loaded. To reload it, use:\n",
      "  %reload_ext autoreload\n"
     ]
    }
   ],
   "source": [
    "# Useful starting lines\n",
    "%matplotlib inline\n",
    "import numpy as np\n",
    "import matplotlib.pyplot as plt\n",
    "from helpers.least_squares import *\n",
    "%load_ext autoreload\n",
    "%autoreload 2"
   ]
  },
  {
   "cell_type": "markdown",
   "metadata": {},
   "source": [
    "## Load the training data into feature matrix, class labels, and event ids:"
   ]
  },
  {
   "cell_type": "code",
   "execution_count": 72,
   "metadata": {
    "scrolled": true
   },
   "outputs": [],
   "source": [
    "from helpers.proj1_helpers import *\n",
    "# Aya : '/Users/mac/Documents/GitHub/ml-project-1-aaa_project1/data/train.csv' \n",
    "DATA_TRAIN_PATH = '/home/adeye/Documents/EPFL/MA1/ML_course/projects/ml-project-1-aaa_project1/train.csv' \n",
    "y, tX, ids = load_csv_data(DATA_TRAIN_PATH)"
   ]
  },
  {
   "cell_type": "markdown",
   "metadata": {},
   "source": [
    "## Do your thing crazy machine learning thing here :) ..."
   ]
  },
  {
   "cell_type": "code",
   "execution_count": 73,
   "metadata": {},
   "outputs": [],
   "source": [
    "from helpers.gradient_descent import *\n",
    "from helpers.least_squares import *\n",
    "from helpers.stochastic_gradient_descent import *\n",
    "from helpers.ridge import *\n",
    "from helpers.processing import *"
   ]
  },
  {
   "cell_type": "markdown",
   "metadata": {},
   "source": [
    "## Pre-processing our DataSet"
   ]
  },
  {
   "cell_type": "code",
   "execution_count": 74,
   "metadata": {},
   "outputs": [],
   "source": [
    "jet_0,label_0,jet_1,label_1,jet_2_3, label_2_3= pre_process_data_pipeline(tX,y)"
   ]
  },
  {
   "cell_type": "code",
   "execution_count": 75,
   "metadata": {},
   "outputs": [
    {
     "name": "stdout",
     "output_type": "stream",
     "text": [
      "(250000, 30)\n",
      "[[ 0.72343805  0.52317289  0.62968263 ...  0.40687538  0.3983056\n",
      "   0.66583024]\n",
      " [ 0.77526501  0.56264922  0.64215782 ... -1.90048197 -1.90048197\n",
      "   0.51064925]\n",
      " [-1.90048197  0.77811391  0.69456379 ... -1.90048197 -1.90048197\n",
      "   0.50609331]\n",
      " ...\n",
      " [ 0.64728354  0.54363654  0.57896063 ... -1.90048197 -1.90048197\n",
      "   0.50088224]\n",
      " [ 0.62304826  0.44867927  0.56275072 ... -1.90048197 -1.90048197\n",
      "   0.40401494]\n",
      " [-1.90048197  0.57184875  0.56740816 ... -1.90048197 -1.90048197\n",
      "   0.40401494]]\n"
     ]
    }
   ],
   "source": [
    "print(tX.shape)\n",
    "tX,_,_ = standardize(tX)\n",
    "print(tX)"
   ]
  },
  {
   "cell_type": "markdown",
   "metadata": {},
   "source": [
    "## Learning Algorithms After Cleaning Our DataSet"
   ]
  },
  {
   "cell_type": "markdown",
   "metadata": {},
   "source": [
    "### Least Squares With Gradient Descent"
   ]
  },
  {
   "cell_type": "code",
   "execution_count": 82,
   "metadata": {},
   "outputs": [
    {
     "name": "stdout",
     "output_type": "stream",
     "text": [
      "(250000,)\n",
      "(250000, 30)\n",
      "[ 0.10912711 -2.86291437 -0.17247185  0.56711906  0.0285999   0.30646842\n",
      " -0.03928044  0.11530093 -0.32190172  0.54930635 -0.01166931  0.18092694\n",
      "  0.02335162  2.09766599  0.0748292   0.06904471 -0.25909315  0.07442551\n",
      "  0.08421695  0.4680382   0.08175617 -0.18742818  0.05048302  0.01565893\n",
      "  0.01003774  0.01155916 -0.33112311  0.0094454   0.00545456 -1.13471646]\n",
      "3.606863e-01\n"
     ]
    }
   ],
   "source": [
    "jet_0,label_0,jet_1,label_1,jet_2_3, label_2_3= groupy_by_jet_num(tX,y)\n",
    "    \n",
    "remove_outliers(tX)\n",
    "init_weights = np.ones((30,))\n",
    "print(y.shape)\n",
    "print(tX.shape)\n",
    "\n",
    "weights,loss =  gradient_descent(y, tX,init_weights , 50000, .01)\n",
    "\n",
    "print(weights)\n",
    "print(\"{:e}\".format(loss))"
   ]
  },
  {
   "cell_type": "markdown",
   "metadata": {},
   "source": [
    "## Least Squares with OLS"
   ]
  },
  {
   "cell_type": "code",
   "execution_count": 77,
   "metadata": {
    "scrolled": true
   },
   "outputs": [
    {
     "name": "stdout",
     "output_type": "stream",
     "text": [
      "0.33944681722221454\n"
     ]
    }
   ],
   "source": [
    "weight,loss= least_squares(y,tX)\n",
    "print(compute_squared_loss(y,tX,weight))"
   ]
  },
  {
   "cell_type": "markdown",
   "metadata": {},
   "source": [
    "## Least Squares With Stochastic Gradient Descent "
   ]
  },
  {
   "cell_type": "code",
   "execution_count": 78,
   "metadata": {},
   "outputs": [
    {
     "name": "stdout",
     "output_type": "stream",
     "text": [
      "(250000,)\n",
      "(250000, 30)\n",
      "[ 0.1448321   0.05714019 -0.0331567   0.05921305  0.12674932 -0.14524506\n",
      "  0.12449748  0.27470122  0.15879255 -0.45332627  0.27633904  0.28399195\n",
      "  0.13178061  0.17486661  0.28559417  0.28369308  0.10154469  0.28483899\n",
      "  0.28425031  0.1353438   0.28539281 -0.70540598  0.27419878 -0.04558516\n",
      "  0.17789485  0.17573642 -0.02374879  0.13345702  0.13272738 -0.16201421]\n",
      "0.2898864373438115\n"
     ]
    }
   ],
   "source": [
    "remove_outliers(tX)\n",
    "init_weights = np.ones((30,))\n",
    "print(y.shape)\n",
    "print(tX.shape)\n",
    "\n",
    "weights,loss =  stochastic_gradient_descent(y, tX,init_weights , 500, 0.01, batch_size=1)\n",
    "\n",
    "print(weights)\n",
    "print(loss)"
   ]
  },
  {
   "cell_type": "markdown",
   "metadata": {},
   "source": [
    "## Least Squares With Ridge Regression "
   ]
  },
  {
   "cell_type": "code",
   "execution_count": 31,
   "metadata": {},
   "outputs": [
    {
     "name": "stdout",
     "output_type": "stream",
     "text": [
      "2.065204e+05\n"
     ]
    }
   ],
   "source": [
    "weights, loss = ridge(y, tX, 0.025)\n",
    "print(\"{:e}\".format(np.sqrt(2*loss)))"
   ]
  },
  {
   "cell_type": "markdown",
   "metadata": {},
   "source": [
    "## Parameter Tuning"
   ]
  },
  {
   "cell_type": "code",
   "execution_count": null,
   "metadata": {},
   "outputs": [],
   "source": []
  },
  {
   "cell_type": "markdown",
   "metadata": {},
   "source": [
    "## Generate predictions and save ouput in csv format for submission:"
   ]
  },
  {
   "cell_type": "code",
   "execution_count": null,
   "metadata": {},
   "outputs": [],
   "source": []
  },
  {
   "cell_type": "code",
   "execution_count": 80,
   "metadata": {},
   "outputs": [],
   "source": [
    "DATA_TEST_PATH = '/home/adeye/Documents/EPFL/MA1/ML_course/projects/ml-project-1-aaa_project1/test.csv' \n",
    "_, tX_test, ids_test = load_csv_data(DATA_TEST_PATH)\n",
    "\n"
   ]
  },
  {
   "cell_type": "code",
   "execution_count": 81,
   "metadata": {},
   "outputs": [],
   "source": [
    "OUTPUT_PATH = '/home/adeye/Documents/EPFL/MA1/ML_course/projects/ml-project-1-aaa_project1/output.csv' \n",
    "y_pred = predict_labels(weights, tX_test)\n",
    "create_csv_submission(ids_test, y_pred, OUTPUT_PATH)"
   ]
  },
  {
   "cell_type": "code",
   "execution_count": null,
   "metadata": {},
   "outputs": [],
   "source": []
  }
 ],
 "metadata": {
  "anaconda-cloud": {},
  "kernelspec": {
   "display_name": "Python 3 (ipykernel)",
   "language": "python",
   "name": "python3"
  },
  "language_info": {
   "codemirror_mode": {
    "name": "ipython",
    "version": 3
   },
   "file_extension": ".py",
   "mimetype": "text/x-python",
   "name": "python",
   "nbconvert_exporter": "python",
   "pygments_lexer": "ipython3",
   "version": "3.8.8"
  }
 },
 "nbformat": 4,
 "nbformat_minor": 4
}
